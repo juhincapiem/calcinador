{
 "cells": [
  {
   "cell_type": "code",
   "execution_count": 21,
   "id": "743851cc",
   "metadata": {},
   "outputs": [],
   "source": [
    "import gmsh\n",
    "import sys\n",
    "import math\n",
    "import json\n",
    "\n",
    "# Initialize gmsh\n",
    "gmsh.initialize()\n",
    "\n",
    "# Choose kernel\n",
    "model = gmsh.model\n",
    "occ = model.occ\n",
    "mesh = model.mesh\n",
    "model.add(\"forma11c_gmsh\")\n",
    "\n",
    "\n",
    "\n",
    "bpp_thickness = 11e-3\n",
    "width = 2e-3\n",
    "gdl_thickness = 100e-6\n",
    "mem_thickness = 50e-6\n",
    "gas_channel_width = 1e-3\n",
    "gas_channel_thickness = 1e-3\n",
    "\n",
    "mesh_size_bpp = 15e-6\n",
    "mesh_size_gdl = 10e-6\n",
    "mesh_size_mem = 5e-6\n",
    "\n",
    "points_bpp = [occ.addPoint(0, gdl_thickness+gas_channel_thickness+mem_thickness/2,0, meshSize=mesh_size_bpp),\n",
    "              occ.addPoint(0, bpp_thickness+gdl_thickness+mem_thickness/2,0, meshSize=mesh_size_bpp),\n",
    "              occ.addPoint(width, bpp_thickness+gdl_thickness+mem_thickness/2,0, meshSize=mesh_size_bpp),\n",
    "              occ.addPoint(width, gdl_thickness+gas_channel_thickness+mem_thickness/2,0, meshSize=mesh_size_bpp)]\n",
    "\n",
    "points_rib = [occ.addPoint(gas_channel_width, gdl_thickness+mem_thickness/2,0, meshSize=mesh_size_bpp),\n",
    "              occ.addPoint(gas_channel_width, gdl_thickness+gas_channel_thickness+mem_thickness/2,0, meshSize=mesh_size_bpp),\n",
    "              occ.addPoint(width, gdl_thickness+gas_channel_thickness+mem_thickness/2,0, meshSize=mesh_size_gdl),\n",
    "              occ.addPoint(width, gdl_thickness+mem_thickness/2,0, meshSize=mesh_size_gdl)]\n",
    "\n",
    "\n",
    "points_gdl = [occ.addPoint(0, mem_thickness/2,0, meshSize=mesh_size_gdl),\n",
    "              occ.addPoint(0, gdl_thickness+mem_thickness/2,0, meshSize=mesh_size_gdl),\n",
    "              occ.addPoint(gas_channel_width, gdl_thickness+mem_thickness/2,0, meshSize=mesh_size_gdl),\n",
    "              occ.addPoint(width, gdl_thickness+mem_thickness/2,0, meshSize=mesh_size_gdl),\n",
    "              occ.addPoint(width, mem_thickness/2,0, meshSize=mesh_size_gdl)]\n",
    "\n",
    "points_mem = [occ.addPoint(0, 0,0, meshSize=mesh_size_mem),\n",
    "              occ.addPoint(0, mem_thickness/2,0, meshSize=mesh_size_mem),\n",
    "              occ.addPoint(width, mem_thickness/2,0, meshSize=mesh_size_mem),\n",
    "              occ.addPoint(width, 0,0, meshSize=mesh_size_mem)]\n",
    "\n",
    "channel_lines_bpp = [occ.addLine(points_bpp[i], points_bpp[i+1])\n",
    "                 for i in range(-1, len(points_bpp)-1)]\n",
    "channel_lines_rib = [occ.addLine(points_rib[i], points_rib[i+1])\n",
    "                 for i in range(-1, len(points_rib)-1)]\n",
    "channel_lines_gdl = [occ.addLine(points_gdl[i], points_gdl[i+1])\n",
    "                 for i in range(-1, len(points_gdl)-1)]\n",
    "channel_lines_mem = [occ.addLine(points_mem[i], points_mem[i+1])\n",
    "                 for i in range(-1, len(points_mem)-1)]\n"
   ]
  },
  {
   "cell_type": "code",
   "execution_count": 22,
   "id": "ae8f5909",
   "metadata": {},
   "outputs": [],
   "source": [
    "channel_surface_bpp = occ.addCurveLoop(channel_lines_bpp,1)\n",
    "channel_surface_bpp = occ.addCurveLoop(channel_lines_gdl,2)\n",
    "channel_surface_bpp = occ.addCurveLoop(channel_lines_mem,3)\n",
    "channel_surface_rib = occ.addCurveLoop(channel_lines_rib,4)"
   ]
  },
  {
   "cell_type": "code",
   "execution_count": 23,
   "id": "7d59c038",
   "metadata": {},
   "outputs": [],
   "source": [
    "plane_surface_bpp = occ.addPlaneSurface([1],1) # add holes and other\n",
    "plane_surface_rib = occ.addPlaneSurface([4],4)\n",
    "plane_surface_gdl = occ.addPlaneSurface([2],2) \n",
    "plane_surface_mem = occ.addPlaneSurface([3],3) \n",
    "\n",
    "extrusion = occ.extrude([(2,1),(2,2),(2,3),(2,4)], 0, 0, 1e-3,numElements=[1], recombine=True)\n"
   ]
  },
  {
   "cell_type": "code",
   "execution_count": 24,
   "id": "20c3f3d8",
   "metadata": {},
   "outputs": [],
   "source": [
    "bpp_rib = occ.fuse([(2,plane_surface_bpp)],[(2,plane_surface_rib)])\n",
    "bpp_gdl = occ.fragment(bpp_rib[0],[(2,plane_surface_gdl)])   #(2,bpp_surface[0][0][1])\n",
    "final_surface = occ.fragment(bpp_gdl[0],[(2,plane_surface_mem)])   #(2,bpp_surface[0][0][1])\n",
    "occ.removeAllDuplicates()\n",
    "occ.synchronize()"
   ]
  },
  {
   "cell_type": "code",
   "execution_count": 25,
   "id": "607bfd6e",
   "metadata": {},
   "outputs": [],
   "source": [
    "model.addPhysicalGroup(3,[1,4],1)\n",
    "model.setPhysicalName(3,1,'BPP')\n",
    "model.addPhysicalGroup(3,[2],2)\n",
    "model.setPhysicalName(3,2,'GDL')\n",
    "model.addPhysicalGroup(3,[3],3)\n",
    "model.setPhysicalName(3,3,'MEM')"
   ]
  },
  {
   "cell_type": "code",
   "execution_count": 26,
   "id": "1483102a",
   "metadata": {},
   "outputs": [],
   "source": [
    "meshtype = 'Bump'\n",
    "coef = 0.05\n",
    "h_line = [95,80,74]\n",
    "mesh.setTransfiniteCurve(h_line[0], 70,meshType = meshtype,coef=coef)\n",
    "mesh.setTransfiniteCurve(h_line[1], 70,meshType = meshtype,coef=coef)\n",
    "mesh.setTransfiniteCurve(h_line[2], 70,meshType = meshtype,coef=coef)\n",
    "\n",
    "\n",
    "h_line_half = [86,89,68,64,101,103]\n",
    "\n",
    "mesh.setTransfiniteCurve(h_line_half[0], 36,meshType = meshtype,coef=coef)\n",
    "mesh.setTransfiniteCurve(h_line_half[1], 36,meshType = meshtype,coef=coef)\n",
    "mesh.setTransfiniteCurve(h_line_half[2], 36,meshType = meshtype,coef=coef)\n",
    "mesh.setTransfiniteCurve(h_line_half[3], 36,meshType = meshtype,coef=coef)\n",
    "mesh.setTransfiniteCurve(h_line_half[4], 15,meshType = meshtype,coef=coef)\n",
    "mesh.setTransfiniteCurve(h_line_half[5], 15,meshType = meshtype,coef=coef)\n",
    "\n",
    "\n",
    "mem_vert = [97,99]\n",
    "mesh.setTransfiniteCurve(mem_vert[0], 4,meshType = meshtype,coef=coef)\n",
    "mesh.setTransfiniteCurve(mem_vert[1], 4,meshType = meshtype,coef=coef)\n",
    "\n",
    "gdl_vert = [83,91]\n",
    "mesh.setTransfiniteCurve(gdl_vert[0], 6,meshType = meshtype,coef=coef)\n",
    "mesh.setTransfiniteCurve(gdl_vert[1], 6,meshType = meshtype,coef=coef)\n",
    "\n",
    "bpp_vert = [71,76]\n",
    "mesh.setTransfiniteCurve(bpp_vert[0], 100,meshType = meshtype,coef=coef)\n",
    "mesh.setTransfiniteCurve(bpp_vert[1], 100,meshType = meshtype,coef=coef)"
   ]
  },
  {
   "cell_type": "code",
   "execution_count": 27,
   "id": "2719a282",
   "metadata": {},
   "outputs": [],
   "source": [
    "mesh.setTransfiniteSurface(occ.getEntities(2)[6][1],cornerTags=[42,43,45,46])\n",
    "mesh.setTransfiniteSurface(occ.getEntities(2)[5][1],cornerTags=[1,44,3,35])\n",
    "mesh.setTransfiniteSurface(occ.getEntities(2)[12][1],cornerTags=[39,10,36,38])\n",
    "mesh.setTransfiniteSurface(occ.getEntities(2)[13][1],cornerTags=[50,51,55,48])\n",
    "\n",
    "for i in range(len(occ.getEntities(2))):\n",
    "    if i not in [5,6,12,13]:\n",
    "        mesh.setTransfiniteSurface(occ.getEntities(2)[i][1])\n",
    "\n",
    "for j in range(len(occ.getEntities(3))):\n",
    "    mesh.setTransfiniteVolume(occ.getEntities(3)[j][1])"
   ]
  },
  {
   "cell_type": "code",
   "execution_count": 28,
   "id": "78171bd4",
   "metadata": {},
   "outputs": [],
   "source": [
    "gmsh.option.setNumber('Mesh.QuadqsSizemapMethod', 4)\n",
    "gmsh.option.setNumber('Mesh.RecombineAll', 1)\n",
    "gmsh.option.setNumber('Mesh.RecombinationAlgorithm', 1)\n",
    "gmsh.option.setNumber('Mesh.Recombine3DLevel', 2)\n",
    "gmsh.option.setNumber('Mesh.ElementOrder', 1)\n",
    "gmsh.option.setNumber('Mesh.Smoothing', 200)"
   ]
  },
  {
   "cell_type": "code",
   "execution_count": 29,
   "id": "72d870fd",
   "metadata": {},
   "outputs": [],
   "source": [
    "#mesh.setRecombine(2, 1)\n",
    "mesh.generate(3)\n",
    "#mesh.optimize(\"Laplace2D\")\n",
    "mesh.optimize(\"Relocate3D\")"
   ]
  },
  {
   "cell_type": "code",
   "execution_count": 30,
   "id": "cdb39032",
   "metadata": {},
   "outputs": [],
   "source": [
    "gmsh.fltk.run()"
   ]
  },
  {
   "cell_type": "code",
   "execution_count": 31,
   "id": "e87f8825",
   "metadata": {},
   "outputs": [],
   "source": [
    "gmsh.write(\"meshgmsh.msh\")\n",
    "gmsh.write(\"meshgmsh.vtk\")\n",
    "gmsh.clear()"
   ]
  }
 ],
 "metadata": {
  "kernelspec": {
   "display_name": "Python 3 (ipykernel)",
   "language": "python",
   "name": "python3"
  },
  "language_info": {
   "codemirror_mode": {
    "name": "ipython",
    "version": 3
   },
   "file_extension": ".py",
   "mimetype": "text/x-python",
   "name": "python",
   "nbconvert_exporter": "python",
   "pygments_lexer": "ipython3",
   "version": "3.10.11"
  }
 },
 "nbformat": 4,
 "nbformat_minor": 5
}
